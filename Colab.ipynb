{
 "cells": [
  {
   "cell_type": "code",
   "execution_count": null,
   "metadata": {},
   "outputs": [],
   "source": [
    "%matplotlib inline\n",
    "%config InlineBackend.figure_format = 'retina'\n",
    "\n",
    "# If on Google Colab:\n",
    "# * Mount google drive\n",
    "# * Install required modules\n",
    "try:\n",
    "    from google.colab import drive\n",
    "    is_colab_kernel = True\n",
    "except ModuleNotFoundError:\n",
    "    is_colab_kernel = False\n",
    "\n",
    "if is_colab_kernel:    \n",
    "    google_drive_mount = '/content/drive/'\n",
    "    drive.mount(google_drive_mount)  # https://colab.research.google.com/notebooks/io.ipynb#scrollTo=u22w3BFiOveA\n",
    "    proj_dir = google_drive_4/zQDy1XoZJh48IiuM05v781eWFnW2mF3Yc8za0UBMUg6PxSPaKU3PLnAmount + 'My Drive/colab/pytorch-challenge'\n",
    "    "
   ]
  },
  {
   "cell_type": "code",
   "execution_count": null,
   "metadata": {},
   "outputs": [],
   "source": [
    "# Change to project directory, set environment variable $PROJ_DIR\n",
    "\n",
    "if is_colab_kernel:\n",
    "    proj_dir = google_drive_mount + 'My Drive/colab/pytorch-challenge'\n",
    "    %mkdir -p \"$proj_dir\"\n",
    "    %cd -q \"$proj_dir\"\n",
    "else:  # Running on local machine, assume we are already in project directory\n",
    "    proj_dir = %pwd  \n",
    "\n",
    "%env PROJ_DIR = $proj_dir\n",
    "print('Current working directory:', proj_dir)"
   ]
  },
  {
   "cell_type": "code",
   "execution_count": null,
   "metadata": {},
   "outputs": [],
   "source": [
    "if is_colab_kernel:\n",
    "  import os\n",
    "  from wheel.pep425tags import get_abbr_impl, get_impl_ver, get_abi_tag\n",
    "\n",
    "  platform = '{}{}-{}'.format(get_abbr_impl(), get_impl_ver(), get_abi_tag())\n",
    "  cuda_output = !ldconfig -p|grep cudart.so|sed -e 's/.*\\.\\([0-9]*\\)\\.\\([0-9]*\\)$/cu\\10/'\n",
    "  accelerator = cuda_output[0] if os.path.exists('/dev/nvidia0') else 'cpu'\n",
    "  print(\"Accelerator = {}, Platform = {}\".format(accelerator, platform))\n",
    "\n",
    "  version='1.0.0'  # Change this when a new version is released\n",
    "  torch_url=f\"http://download.pytorch.org/whl/{accelerator}/torch-{version}-{platform}-linux_x86_64.whl\"\n",
    "  torch_pkg = os.path.basename(torch_url)\n",
    "\n",
    "  # Download torch if needed\n",
    "  if not os.path.exists(torch_pkg):\n",
    "      !wget --continue $torch_url\n",
    "\n",
    "  # Install PyTorch if it is not installed\n",
    "  !pip show torch &> /dev/null || pip install -U --progress-bar=pretty \"{torch_pkg}\" torchvision pillow==4.1.1\n",
    "  %reload_ext autoreload\n",
    "  %autoreload"
   ]
  },
  {
   "cell_type": "code",
   "execution_count": null,
   "metadata": {},
   "outputs": [],
   "source": [
    "#Here you will be downloading the image data into the google drive\n",
    "\n",
    "%%bash\n",
    "# [[ ! -e /colabtools ]] && exit  # Continue only if running on Google Colab\n",
    "\n",
    "set -eu  # Exit on command failure or unset variable\n",
    "\n",
    "# Download the category name mapping file if needed\n",
    "wget -qN 'https://raw.githubusercontent.com/udacity/pytorch_challenge/master/cat_to_name.json'\n",
    "\n",
    "# Download / extract the datasets if needed\n",
    "data_file=\"$PROJ_DIR/flower_data.zip\"\n",
    "category_labels=\n",
    "data_dir=$(readlink -f 'flower_data')  # Convert to absolute path\n",
    "\n",
    "if [[ -d \"$data_dir\" ]]; then\n",
    "  echo \"Dataset already unzipped.\"\n",
    "  ls -ld \"$data_dir\"/*\n",
    "  exit\n",
    "fi\n",
    "\n",
    "if [[ -s \"$data_file\" ]]; then\n",
    "  echo \"Downloaded dataset already exists.\"\n",
    "else\n",
    "  echo \"Please wait while dataset downloads...\"\n",
    "  wget --continue 'https://s3.amazonaws.com/content.udacity-data.com/courses/nd188/flower_data.zip'\n",
    "fi\n",
    "\n",
    "echo \"Unzipping $data_file...\"\n",
    "unzip -uq \"$data_file\" | tail -n3\n",
    "rm \"$data_file\"  # Remove file to save disk space\n",
    "\n",
    "ls -ld \"$data_dir\"/*"
   ]
  },
  {
   "cell_type": "code",
   "execution_count": null,
   "metadata": {},
   "outputs": [],
   "source": [
    "# Check if CUDA is available\n",
    "\n",
    "# Check if CUDA is available\n",
    "import torch\n",
    "if not torch.cuda.is_available():\n",
    "    print('CUDA is not available.  Training on CPU ...')\n",
    "    if is_colab_kernel:\n",
    "        print('You should enable GPUs for speed-up.')\n",
    "else:\n",
    "    print('CUDA is available!  Training on GPU ...')\n",
    "\n",
    "# Set device for .to(device)\n",
    "device = torch.device('cuda' if torch.cuda.is_available() else 'cpu')\n",
    "# http://pytorch.org/\n",
    "import numpy as np\n",
    "import matplotlib.pyplot as plt\n",
    "import time\n",
    "from torch import nn\n",
    "from torch import optim\n",
    "from torch.nn import functional as F\n",
    "from torchvision import transforms\n",
    "from torchvision import models\n",
    "from torchvision.datasets import ImageFolder\n",
    "from torch.utils.data import DataLoader\n"
   ]
  },
  {
   "cell_type": "code",
   "execution_count": null,
   "metadata": {},
   "outputs": [],
   "source": [
    "train_transforms = #todo\n",
    "\n",
    "test_transforms = #todo"
   ]
  },
  {
   "cell_type": "code",
   "execution_count": null,
   "metadata": {},
   "outputs": [],
   "source": []
  },
  {
   "cell_type": "code",
   "execution_count": null,
   "metadata": {},
   "outputs": [],
   "source": [
    "# TODO: Load the datasets with ImageFolder\n",
    "#This is how you load the image data from the google drive.\n",
    "train_dataset = ImageFolder('/content/drive/My Drive/colab/pytorch-challenge/flower_data/train', transform=train_transforms)\n",
    "test_dataset =  ImageFolder('/content/drive/My Drive/colab/pytorch-challenge/flower_data/valid', transform=test_transforms)\n",
    "# TODO: Using the image datasets and the trainforms, define the dataloaders\n",
    "train_loader = DataLoader(train_dataset, batch_size=50, shuffle=True)\n",
    "test_loader = DataLoader(test_dataset, batch_size=50, shuffle=True)"
   ]
  }
 ],
 "metadata": {
  "kernelspec": {
   "display_name": "Python 3",
   "language": "python",
   "name": "python3"
  },
  "language_info": {
   "codemirror_mode": {
    "name": "ipython",
    "version": 3
   },
   "file_extension": ".py",
   "mimetype": "text/x-python",
   "name": "python",
   "nbconvert_exporter": "python",
   "pygments_lexer": "ipython3",
   "version": "3.6.5"
  }
 },
 "nbformat": 4,
 "nbformat_minor": 2
}
